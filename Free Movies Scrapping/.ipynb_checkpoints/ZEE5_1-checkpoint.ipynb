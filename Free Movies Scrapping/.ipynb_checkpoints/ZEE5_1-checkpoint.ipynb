{
 "cells": [
  {
   "cell_type": "code",
   "execution_count": 96,
   "metadata": {},
   "outputs": [],
   "source": [
    "from selenium import webdriver\n",
    "from bs4 import BeautifulSoup as soup\n",
    "from urllib.request import urlopen as uReq\n",
    "import requests\n",
    "import time\n",
    "import pandas as pd\n",
    "from selenium.webdriver.common.keys import Keys"
   ]
  },
  {
   "cell_type": "code",
   "execution_count": null,
   "metadata": {},
   "outputs": [],
   "source": [
    "#driver = webdriver.Chrome(r'C:/Program Files (x86)/Google/Chrome/Application/chrome.exe')\n",
    "option = webdriver.ChromeOptions()\n",
    "option.add_argument('headless')\n",
    "driver = webdriver.Chrome(options= option)\n",
    "url = 'https://www.zee5.com/videos'\n",
    "driver.get('https://www.zee5.com/videos') "
   ]
  },
  {
   "cell_type": "code",
   "execution_count": 131,
   "metadata": {},
   "outputs": [
    {
     "name": "stdout",
     "output_type": "stream",
     "text": [
      "49\n",
      "49\n",
      "49\n",
      "49\n",
      "49\n",
      "49\n"
     ]
    }
   ],
   "source": [
    "def loadFully():\n",
    "    end = driver.find_element_by_class_name('footerContainer')\n",
    "    previous_len = 0\n",
    "    Movie_tray = []\n",
    "    check = 0\n",
    "    while True:\n",
    "        driver.execute_script('arguments[0].scrollIntoView();',end)\n",
    "        #time.sleep(5)\n",
    "        page = driver.execute_script(\"return document.documentElement.outerHTML\")\n",
    "        page_html = soup(page, 'html.parser')\n",
    "        Movie_tray = page_html.findAll('div', {'class':'tray-container portraitSmall-tray-wrap'})\n",
    "        curr_len = len(Movie_tray)\n",
    "        print('LOADING...',curr_len)\n",
    "        if previous_len == curr_len:\n",
    "            check += 1\n",
    "            if check == 5:\n",
    "                break\n",
    "        previous_len = curr_len\n",
    "\n",
    "    print('DONE\\nTotal Category Captured : ', curr_len)\n",
    "    return Movie_tray\n",
    "\n",
    "Movie_tray = loadFully()"
   ]
  },
  {
   "cell_type": "code",
   "execution_count": 139,
   "metadata": {},
   "outputs": [],
   "source": [
    "def loadUntillFindCategory(category):\n",
    "    sec = 2 #based on internet speed\n",
    "    find = None\n",
    "    attempts = 0\n",
    "    while find is None:\n",
    "        attempts += 1\n",
    "        try:\n",
    "            find = driver.find_element_by_xpath('//*[text() = \"{0}\"]'.format(category))\n",
    "        except Exception as e:\n",
    "            end = driver.find_element_by_class_name('footerContainer')\n",
    "            driver.execute_script('arguments[0].scrollIntoView();',end)\n",
    "        time.sleep(sec)\n",
    "        if atttempts == 50: #if even after 50 attemts which means after (50*sec) seconds elemnt is not found. so we skip that elemnt\n",
    "            return 0\n",
    "    return find"
   ]
  },
  {
   "cell_type": "code",
   "execution_count": 140,
   "metadata": {},
   "outputs": [],
   "source": [
    "Category = []\n",
    "Source = []\n",
    "notFound = []"
   ]
  },
  {
   "cell_type": "code",
   "execution_count": 141,
   "metadata": {},
   "outputs": [
    {
     "name": "stdout",
     "output_type": "stream",
     "text": [
      "Complete : 1/49\n",
      "Complete : 2/49\n",
      "Complete : 3/49\n",
      "Complete : 4/49\n",
      "Complete : 5/49\n",
      "Complete : 6/49\n",
      "Complete : 7/49\n",
      "Complete : 8/49\n",
      "Complete : 9/49\n",
      "Complete : 10/49\n",
      "Complete : 11/49\n",
      "Complete : 12/49\n",
      "Complete : 13/49\n"
     ]
    }
   ],
   "source": [
    "i = 1\n",
    "for tray in Movie_tray:\n",
    "    categoryLink = tray.find(class_ = 'titleLink')\n",
    "    c_text = categoryLink.text\n",
    "    category = loadUntillFindCategory(c_text)\n",
    "    if category == 0:\n",
    "        notFound.append(c_text)\n",
    "        continue\n",
    "    driver.execute_script('arguments[0].click();',category)  \n",
    "    # IMPROVEMENT TO BE DONE -> when click, source open in new tabe, so we dont have to load our main page again and again.\n",
    "    Source.append(driver.execute_script('return document.URL'))\n",
    "    Category.append(c_text)\n",
    "    driver.get(url)\n",
    "    print('Complete : {0}/{1}'.format(i,len(Movie_tray)))\n",
    "    i += 1"
   ]
  },
  {
   "cell_type": "code",
   "execution_count": 143,
   "metadata": {},
   "outputs": [
    {
     "data": {
      "text/plain": [
       "[]"
      ]
     },
     "execution_count": 143,
     "metadata": {},
     "output_type": "execute_result"
    }
   ],
   "source": [
    "notFound"
   ]
  },
  {
   "cell_type": "code",
   "execution_count": null,
   "metadata": {},
   "outputs": [],
   "source": [
    "CategoryData = pd.DataFrame({\n",
    "    'Category' : Category,\n",
    "    'Source' : Source\n",
    "})"
   ]
  },
  {
   "cell_type": "code",
   "execution_count": 152,
   "metadata": {},
   "outputs": [],
   "source": [
    "driver.quit()"
   ]
  },
  {
   "cell_type": "code",
   "execution_count": 150,
   "metadata": {},
   "outputs": [],
   "source": [
    "#CategoryData.to_csv('CategoryZEE51.csv', index = False)"
   ]
  },
  {
   "cell_type": "code",
   "execution_count": null,
   "metadata": {},
   "outputs": [],
   "source": []
  }
 ],
 "metadata": {
  "kernelspec": {
   "display_name": "Python 3.7.7 64-bit",
   "language": "python",
   "name": "python37764bit1901e9bd54274d58be4561139cc65bf1"
  },
  "language_info": {
   "codemirror_mode": {
    "name": "ipython",
    "version": 3
   },
   "file_extension": ".py",
   "mimetype": "text/x-python",
   "name": "python",
   "nbconvert_exporter": "python",
   "pygments_lexer": "ipython3",
   "version": "3.7.7"
  }
 },
 "nbformat": 4,
 "nbformat_minor": 4
}
