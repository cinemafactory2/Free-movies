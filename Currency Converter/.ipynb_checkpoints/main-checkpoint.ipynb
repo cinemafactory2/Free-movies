{
 "cells": [
  {
   "cell_type": "markdown",
   "metadata": {},
   "source": [
    "# Python Project on Currency Converter"
   ]
  },
  {
   "cell_type": "code",
   "execution_count": 2,
   "metadata": {},
   "outputs": [],
   "source": [
    "import requests\n",
    "from tkinter import *"
   ]
  },
  {
   "cell_type": "code",
   "execution_count": 16,
   "metadata": {
    "tags": []
   },
   "outputs": [],
   "source": [
    "class CurrencyConverter():\n",
    "    def __init__(self,url):\n",
    "        self.data= requests.get(url).json()\n",
    "        self.currencies = self.data['rates']\n",
    "\n",
    "    def convert(self, from_currency, to_currency, amount): \n",
    "        initial_amount = amount \n",
    "        if from_currency != 'USD' : \n",
    "            amount = amount / self.currencies[from_currency] \n",
    "  \n",
    "        # limiting the precision to 2 decimal places \n",
    "        amount = round(amount * self.currencies[to_currency], 2) \n",
    "        return amount"
   ]
  },
  {
   "cell_type": "code",
   "execution_count": 34,
   "metadata": {
    "tags": []
   },
   "outputs": [],
   "source": [
    "class CurrencyConverterApp():\n",
    "\n",
    "    def __init__(self,root,converter):\n",
    "        self.root =root\n",
    "        root.title = 'Currency Converter'\n",
    "        self.converter = converter\n",
    "\n",
    "    def create_converter(self):\n",
    "        self.variable1 = StringVar(root) \n",
    "        self.variable2 = StringVar(root) \n",
    "        \n",
    "        # initialise the variables \n",
    "        self.variable1.set(\"INR\") \n",
    "        self.variable2.set(\"USD\")\n",
    "\n",
    "        # Set the background colour of GUI window  \n",
    "        root.configure(background = 'purple') \n",
    "\n",
    "        # Set the configuration of GUI window (WidthxHeight) \n",
    "        root.geometry(\"400x320\")\n",
    "\n",
    "        # Create welcome to Real Time Currency Convertor label  \n",
    "        headlabel = Label(root, text = 'Welcome to Real Time Currency Convertor',  fg = 'white', bg = \"black\")\n",
    "        headlabel.config(font = ('Courier',10,'bold'))\n",
    "\n",
    "        # Create a 'DESC' label\n",
    "        label_desc = Label(root, text = f\"1 Indian Rupee equals = {self.converter.convert('INR','USD',1)} USD \\n Date : {self.converter.data['date']}\")\n",
    "\n",
    "        # Create Entry box\n",
    "        self.Amount = Entry(root,bd = 3)\n",
    "        self.converted_amount_field = Entry(root,bd=3)\n",
    "        self.Amount.insert(0, 1)\n",
    "        self.converted_amount_field.insert(0,0.013)\n",
    "\n",
    "        # Create a dropdown\n",
    "        from_curr_options = OptionMenu(root, self.variable1, *converter.currencies.keys())\n",
    "        from_curr_options.config(width=10, font=('Courier', 10,'bold'), bg = 'yellow', fg = 'black')\n",
    "        from_curr_options.pack()\n",
    "        to_curr_options   = OptionMenu(root, self.variable2, *converter.currencies.keys())\n",
    "        to_curr_options.config(width=10, font=('Courier', 10,'bold'), bg = 'red', fg = 'black')\n",
    "        to_curr_options.pack()\n",
    "\n",
    "\n",
    "        # Placing on screen\n",
    "        headlabel.place(x=50, y=10)\n",
    "        label_desc.place(x = 110, y= 50)\n",
    "        self.Amount.place(x = 60, y= 120)\n",
    "        self.converted_amount_field.place(x = 60,y = 160)\n",
    "        from_curr_options.place(x = 220 , y = 115)\n",
    "        to_curr_options.place(x = 220 , y = 155)\n",
    "\n",
    "        \n",
    "        self.button1 = Button(root, text = \"Convert\", fg = \"black\", command = self.perform) \n",
    "        self.button1.config(font=('Courier', 15, 'bold'))\n",
    "        self.button1.place(x = 150, y = 200)\n",
    "          \n",
    "    def perform(self,):\n",
    "        amount = float(self.Amount.get())\n",
    "        from_curr = self.variable1.get()\n",
    "        to_curr = self.variable2.get()\n",
    "\n",
    "        converted_amount = self.converter.convert(from_curr,to_curr,amount)\n",
    "        converted_amount = round(converted_amount, 2)\n",
    "\n",
    "        self.converted_amount_field.delete(0,END)\n",
    "        self.converted_amount_field.insert(0,converted_amount)"
   ]
  },
  {
   "cell_type": "code",
   "execution_count": 35,
   "metadata": {
    "tags": []
   },
   "outputs": [],
   "source": [
    "if __name__ == '__main__':\n",
    "    url = 'https://api.exchangerate-api.com/v4/latest/USD'\n",
    "    converter = CurrencyConverter(url)\n",
    "\n",
    "    root = Tk()\n",
    "    \n",
    "    Converter = CurrencyConverterApp(root,converter)\n",
    "    Converter.create_converter()\n",
    "\n",
    "    root.mainloop()"
   ]
  },
  {
   "cell_type": "code",
   "execution_count": null,
   "metadata": {},
   "outputs": [],
   "source": []
  }
 ],
 "metadata": {
  "kernelspec": {
   "display_name": "Python 3.7.7 64-bit",
   "language": "python",
   "name": "python37764bit1901e9bd54274d58be4561139cc65bf1"
  },
  "language_info": {
   "codemirror_mode": {
    "name": "ipython",
    "version": 3
   },
   "file_extension": ".py",
   "mimetype": "text/x-python",
   "name": "python",
   "nbconvert_exporter": "python",
   "pygments_lexer": "ipython3",
   "version": "3.7.7"
  }
 },
 "nbformat": 4,
 "nbformat_minor": 2
}
